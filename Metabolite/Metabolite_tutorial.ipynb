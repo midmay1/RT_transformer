{
 "cells": [
  {
   "cell_type": "code",
   "execution_count": 2,
   "id": "902d63d4",
   "metadata": {},
   "outputs": [],
   "source": [
    "from __future__ import print_function\n",
    "import copy\n",
    "\n",
    "# Import modules required \n",
    "import sys, time, os, ast, pickle, copy\n",
    "from rdkit import Chem\n",
    "from rdkit.Chem import AllChem\n",
    "from glob import glob\n",
    "# from edge_fingerprint import generate_fp_oddt, generate_fp, atom_featurize, get_properties\n",
    "import numpy as np\n",
    "from IPython.lib.pretty import pretty\n",
    "from itertools import chain"
   ]
  },
  {
   "cell_type": "code",
   "execution_count": 3,
   "id": "6a7d88cb",
   "metadata": {},
   "outputs": [
    {
     "ename": "NameError",
     "evalue": "name 'do1' is not defined",
     "output_type": "error",
     "traceback": [
      "\u001b[0;31m---------------------------------------------------------------------------\u001b[0m",
      "\u001b[0;31mNameError\u001b[0m                                 Traceback (most recent call last)",
      "\u001b[0;32m/tmp/ipykernel_1646031/1871466943.py\u001b[0m in \u001b[0;36m<module>\u001b[0;34m\u001b[0m\n\u001b[0;32m----> 1\u001b[0;31m \u001b[0mdo1\u001b[0m\u001b[0;34m(\u001b[0m\u001b[0;34m)\u001b[0m \u001b[0;31m# Generate Our SDF data\u001b[0m\u001b[0;34m\u001b[0m\u001b[0;34m\u001b[0m\u001b[0m\n\u001b[0m\u001b[1;32m      2\u001b[0m \u001b[0mdo2\u001b[0m\u001b[0;34m(\u001b[0m\u001b[0;34m)\u001b[0m \u001b[0;31m# read dump file\u001b[0m\u001b[0;34m\u001b[0m\u001b[0;34m\u001b[0m\u001b[0m\n\u001b[1;32m      3\u001b[0m \u001b[0mdo3\u001b[0m\u001b[0;34m(\u001b[0m\u001b[0;34m)\u001b[0m \u001b[0;31m# Generate Zaretzki's data\u001b[0m\u001b[0;34m\u001b[0m\u001b[0;34m\u001b[0m\u001b[0m\n\u001b[1;32m      4\u001b[0m \u001b[0mdo4\u001b[0m\u001b[0;34m(\u001b[0m\u001b[0;34m)\u001b[0m \u001b[0;31m# read dump file\u001b[0m\u001b[0;34m\u001b[0m\u001b[0;34m\u001b[0m\u001b[0m\n\u001b[1;32m      5\u001b[0m \u001b[0mdo5\u001b[0m\u001b[0;34m(\u001b[0m\u001b[0;34m)\u001b[0m \u001b[0;31m# Generate ATF map template\u001b[0m\u001b[0;34m\u001b[0m\u001b[0;34m\u001b[0m\u001b[0m\n",
      "\u001b[0;31mNameError\u001b[0m: name 'do1' is not defined"
     ]
    }
   ],
   "source": [
    "    do1() # Generate Our SDF data\n",
    "    do2() # read dump file\n",
    "    do3() # Generate Zaretzki's data\n",
    "    do4() # read dump file\n",
    "    do5() # Generate ATF map template\n",
    "    do6() # Generate curated data\n",
    "    do7() # read dump file\n",
    "    do8() # Generate training data"
   ]
  },
  {
   "cell_type": "code",
   "execution_count": 245,
   "id": "b929728a",
   "metadata": {},
   "outputs": [],
   "source": [
    "fn=\"./SDF/*.sdf\"\n",
    "def connect_search(filename):\n",
    "    n_human,not_human=0,0\n",
    "    supplier = Chem.SDMolSupplier(str(filename), sanitize=False,strictParsing=False)\n",
    "    \n",
    "    smiles=[]\n",
    "    printable=[]\n",
    "    for mol in supplier:\n",
    "        idx2mol[int(mol.GetProp('_Name'))] = Chem.RemoveHs(mol)\n",
    "        \n",
    "        smiles.append(Chem.MolToSmiles(mol)) ## for making SMARTS (transformer)\n",
    "        \n",
    "    ids=list(idx2mol.keys()) ; ids.sort()\n",
    "    connec_pairs = supplier[0].GetProp('Connectivity')\n",
    "    connec_pairs = ast.literal_eval(connec_pairs) # Trans type ; str to list\n",
    "            \n",
    "#     print(\"filename : \",filename)\n",
    "    \n",
    "    metabolism=[]\n",
    "    for connec_pair in connec_pairs:\n",
    "        p = connec_pair[0] # Parent\n",
    "        m_pair = connec_pair[1:] # Metabolite\n",
    "        pmol = idx2mol[p]\n",
    "        pmol = Chem.rdmolops.AddHs(pmol)\n",
    "        patoms = [patom for patom in pmol.GetAtoms()]\n",
    "        \n",
    "        for m in m_pair:\n",
    "            mmol = idx2mol[m]\n",
    "            mmol_prop = mmol.GetPropsAsDict() #; print(mmol_prop['Metabolism Type'])\n",
    "            metabolism.append(mmol_prop['Metabolism Type'])\n",
    "            mmol_prop_som = mmol.GetProp('SOM')\n",
    "    \n",
    "            if mmol_prop['Species'] == 'Human': \n",
    "                n_human+=1\n",
    "            else:\n",
    "                not_human+=1\n",
    "                \n",
    "                somlist = ast.literal_eval(mmol_prop['SOM'])\n",
    "                \n",
    "                ## 2개 이상 SOM 넣으면 에러나는 문제가 있어서 2개로 고정했다고 함.\n",
    "#                 if len(somlist) > 2:\n",
    "#                     somelist = somelist[:2]\n",
    "\n",
    "            for atom in pmol.GetAtoms():\n",
    "                atomidx = atom.GetIdx()\n",
    "#                 if atomidx in somlist:\n",
    "#                     y = 'SoM'\n",
    "#                 else:\n",
    "#                     y = 'NoSoM'\n",
    "\n",
    "        \n",
    "#         print(metabolism)\n",
    "        for i in metabolism:\n",
    "#             print(\"before\",i)\n",
    "            i=i.split(\",\")\n",
    "#             print(\"after\",i)\n",
    "            for item in i:\n",
    "                printable.append(item)\n",
    "                \n",
    "#         print(\"printable\",printable)\n",
    "        return printable,n_human,not_human\n",
    "                    "
   ]
  },
  {
   "cell_type": "code",
   "execution_count": 246,
   "id": "568c7a3e",
   "metadata": {
    "scrolled": true
   },
   "outputs": [],
   "source": [
    "printable=[]\n",
    "human,nohuman=0,0\n",
    "for filename in glob(fn):\n",
    "    a,b,c = connect_search(filename)\n",
    "    human+=b\n",
    "    nohuman+=c\n",
    "    for item in a:\n",
    "        printable.append(item)\n",
    "# printable"
   ]
  },
  {
   "cell_type": "code",
   "execution_count": 248,
   "id": "d016cdc1",
   "metadata": {},
   "outputs": [
    {
     "name": "stdout",
     "output_type": "stream",
     "text": [
      "The number of metabolite mechanism :  77\n",
      "Human species :  3820\n",
      "Not Human species :  460\n"
     ]
    }
   ],
   "source": [
    "# print(set(printable))\n",
    "print(\"The number of metabolite mechanism : \",len(set(printable)))\n",
    "# set(printable)\n",
    "print(\"Human species : \",human)\n",
    "print(\"Not Human species : \",nohuman)"
   ]
  },
  {
   "cell_type": "code",
   "execution_count": 9,
   "id": "5a122d51",
   "metadata": {},
   "outputs": [
    {
     "name": "stdout",
     "output_type": "stream",
     "text": [
      "The number of metabolite reaction in Zaretzki :  2683\n",
      "The number of metabolite reaction in Zaretzki :  2683\n"
     ]
    }
   ],
   "source": [
    "\n",
    "count=0\n",
    "smiles=[]\n",
    "for fn in glob('./CYP_DB_Zaretzki_XenoSite/*.sdf'):\n",
    "#     print(\"=\"*60);print(\"=\"*60);print(\"=\"*60)\n",
    "#     print(fn)\n",
    "    for mol in Chem.SDMolSupplier(fn):\n",
    "        smiles.append(Chem.MolToSmiles(mol))\n",
    "        mprop=mol.GetPropsAsDict()\n",
    "        count+=1\n",
    "#         print(mprop)\n",
    "print(\"The number of metabolite reaction in Zaretzki : \",count)\n",
    "print(\"The number of metabolite reaction in Zaretzki : \",len(smiles))"
   ]
  },
  {
   "cell_type": "code",
   "execution_count": 156,
   "id": "c3d68edb",
   "metadata": {},
   "outputs": [
    {
     "ename": "RuntimeError",
     "evalue": "Pre-condition Violation\n\tgetNumImplicitHs() called without preceding call to calcImplicitValence()\n\tViolation occurred on line 183 in file Code/GraphMol/Atom.cpp\n\tFailed Expression: d_implicitValence > -1\n\tRDKIT: 2021.09.5\n\tBOOST: 1_75\n",
     "output_type": "error",
     "traceback": [
      "\u001b[0;31m---------------------------------------------------------------------------\u001b[0m",
      "\u001b[0;31mRuntimeError\u001b[0m                              Traceback (most recent call last)",
      "\u001b[0;32m/tmp/ipykernel_1602911/775651713.py\u001b[0m in \u001b[0;36m<module>\u001b[0;34m\u001b[0m\n\u001b[1;32m     12\u001b[0m \u001b[0ma\u001b[0m\u001b[0;34m=\u001b[0m\u001b[0;34m[\u001b[0m\u001b[0;34m]\u001b[0m\u001b[0;34m\u001b[0m\u001b[0;34m\u001b[0m\u001b[0m\n\u001b[1;32m     13\u001b[0m \u001b[0;32mfor\u001b[0m \u001b[0matom\u001b[0m \u001b[0;32min\u001b[0m \u001b[0mmol\u001b[0m\u001b[0;34m.\u001b[0m\u001b[0mGetAtoms\u001b[0m\u001b[0;34m(\u001b[0m\u001b[0;34m)\u001b[0m\u001b[0;34m:\u001b[0m\u001b[0;34m\u001b[0m\u001b[0;34m\u001b[0m\u001b[0m\n\u001b[0;32m---> 14\u001b[0;31m     \u001b[0matom\u001b[0m\u001b[0;34m.\u001b[0m\u001b[0mGetSmarts\u001b[0m\u001b[0;34m(\u001b[0m\u001b[0;34m)\u001b[0m\u001b[0;34m\u001b[0m\u001b[0;34m\u001b[0m\u001b[0m\n\u001b[0m\u001b[1;32m     15\u001b[0m \u001b[0;34m\u001b[0m\u001b[0m\n\u001b[1;32m     16\u001b[0m \u001b[0;34m\u001b[0m\u001b[0m\n",
      "\u001b[0;31mRuntimeError\u001b[0m: Pre-condition Violation\n\tgetNumImplicitHs() called without preceding call to calcImplicitValence()\n\tViolation occurred on line 183 in file Code/GraphMol/Atom.cpp\n\tFailed Expression: d_implicitValence > -1\n\tRDKIT: 2021.09.5\n\tBOOST: 1_75\n"
     ]
    }
   ],
   "source": [
    "filename='./SDF/S260-3.sdf'\n",
    "idx2item = {}; idx2mol = {}\n",
    "supplier = Chem.SDMolSupplier(str(filename),sanitize=False,strictParsing=False)\n",
    "\n",
    "want=3\n",
    "mol=supplier[want]\n",
    "mol_name=mol.GetProp('_Name')\n",
    "idx2mol[int(mol_name)] = Chem.RemoveHs(mol)\n",
    "\n",
    "Chem.RemoveHs(mol)\n",
    "\n",
    "a=[]\n",
    "for atom in mol.GetAtoms():\n",
    "    atom.GetSmarts()\n",
    "    \n",
    "    \n",
    "a[0]"
   ]
  },
  {
   "cell_type": "code",
   "execution_count": 104,
   "id": "fccb1e58",
   "metadata": {},
   "outputs": [
    {
     "name": "stdout",
     "output_type": "stream",
     "text": [
      "[[0, 1, 2], [1, 3], [3, 5], [2, 4]]\n",
      "parent :  0\n",
      "parent --> Metabolite:  [1, 2]\n",
      "parent :  1\n",
      "parent --> Metabolite:  [3]\n",
      "parent :  3\n",
      "parent --> Metabolite:  [5]\n",
      "parent :  2\n",
      "parent --> Metabolite:  [4]\n"
     ]
    },
    {
     "data": {
      "text/plain": [
       "rdkit.Chem.rdchem._ROAtomSeq"
      ]
     },
     "execution_count": 104,
     "metadata": {},
     "output_type": "execute_result"
    }
   ],
   "source": [
    "metabolic_steps = 0\n",
    "for mol in supplier:\n",
    "    mol_name = mol.GetProp('_Name')\n",
    "    idx2mol[int(mol_name)] = Chem.RemoveHs(mol)\n",
    "    metabolic_steps += 1\n",
    "ids = list(idx2mol.keys())\n",
    "ids.sort()\n",
    "ids\n",
    "connec_pairs = supplier[0].GetProp('Connectivity') #! molla\n",
    "connec_pairs = ast.literal_eval(connec_pairs) # Trans type: str to list\n",
    "print(connec_pairs)\n",
    "\n",
    "for connec_pair in connec_pairs:\n",
    "    p = connec_pair[0] # Parent\n",
    "    print(\"parent : \",p)\n",
    "    \n",
    "    m_pair = connec_pair[1:] # Metabolite\n",
    "    print(\"parent --> Metabolite: \",m_pair)\n",
    "    pmol = idx2mol[p]\n",
    "    pmol = Chem.rdmolops.AddHs(pmol)\n",
    "    patoms = [patom for patom in pmol.GetAtoms()]\n",
    "    \n",
    "connec_pair = connec_pairs[0]\n",
    "p=connec_pair[0]\n",
    "m_pair=connec_pair[1:]\n",
    "pmol=idx2mol[p]\n",
    "patoms=[patom for patom in pmol.GetAtoms()]\n",
    "patoms[0]\n",
    "\n"
   ]
  },
  {
   "cell_type": "code",
   "execution_count": 114,
   "id": "8e887189",
   "metadata": {},
   "outputs": [],
   "source": [
    "m = m_pair[0]\n",
    "mmol = idx2mol[m]\n",
    "mmol_prop = mmol.GetPropsAsDict()"
   ]
  },
  {
   "cell_type": "code",
   "execution_count": null,
   "id": "a788fbc9",
   "metadata": {},
   "outputs": [],
   "source": []
  }
 ],
 "metadata": {
  "kernelspec": {
   "display_name": "Python 3 (ipykernel)",
   "language": "python",
   "name": "python3"
  },
  "language_info": {
   "codemirror_mode": {
    "name": "ipython",
    "version": 3
   },
   "file_extension": ".py",
   "mimetype": "text/x-python",
   "name": "python",
   "nbconvert_exporter": "python",
   "pygments_lexer": "ipython3",
   "version": "3.9.7"
  }
 },
 "nbformat": 4,
 "nbformat_minor": 5
}
